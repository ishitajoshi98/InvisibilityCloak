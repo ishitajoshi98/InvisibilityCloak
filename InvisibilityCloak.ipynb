{
 "cells": [
  {
   "cell_type": "code",
   "execution_count": 2,
   "metadata": {},
   "outputs": [],
   "source": [
    "import numpy as np\n",
    "import cv2 as cv\n",
    "import time"
   ]
  },
  {
   "cell_type": "code",
   "execution_count": 12,
   "metadata": {},
   "outputs": [],
   "source": [
    "cap = cv.VideoCapture(1)\n",
    "\n",
    "time.sleep(3) #Give some time to the camera to warmup\n",
    "background = 0\n",
    "\n",
    "#Capture the background. 40 frames so that when you have to superimpose the background on the cloak, it will\n",
    "#take the average of those 40 frames for better accuracy and noise removal.\n",
    "for i in range(40):\n",
    "    ret, background = cap.read()\n",
    "\n",
    "#For capturing the foreground. If you use while True here, the code will keep running even when the window is closed.\n",
    "while (cap.isOpened()):\n",
    "    ret, img = cap.read()#ret is a boolean value.It will be true if camera is capturing image and false otherwise. img is what the camera sees\n",
    "                         #cap.read returns 2 values - image and the return value(true/false)\n",
    "    if ret==False:\n",
    "        break\n",
    "    \n",
    "    hsvimg = cv.cvtColor(img, cv.COLOR_BGR2HSV)\n",
    "    \n",
    "    #Give the range depending on the colour of the cloak\n",
    "    lower_col = np.array([0,120, 70]) #in opencv, we have reduced the colour angle by half. so instead of 0-360, it is now 0-180\n",
    "    upper_col = np.array([0, 255, 255])\n",
    "    mask1 = cv.inRange(hsvimg, lower_col, upper_col) #separating the cloak part\n",
    "    \n",
    "    lower_rng = np.array([170,120, 70])\n",
    "    upper_rng = np.array([180, 255, 255])\n",
    "    \n",
    "#     164 132 47\n",
    "#     172 241 239\n",
    "    mask2 = cv.inRange(hsvimg, lower_rng, upper_rng)\n",
    "    \n",
    "    mask1 = mask1 + mask2 #add the two masks. This will comprise of the cloak area\n",
    "    \n",
    "    #Noise removal\n",
    "    mask1 = cv.morphologyEx(mask1, cv.MORPH_OPEN, np.ones((3,3),np.uint8), iterations=2)#image, function to be performed, kernal/filter (remember cnn filter?)\n",
    "    mask1 = cv.morphologyEx(mask1, cv.MORPH_DILATE, np.ones((3,3), np.uint8), iterations=1)\n",
    "    \n",
    "    mask2 = cv.bitwise_not(mask1) #This comprises of the remaining area. Everything except the cloak\n",
    "    \n",
    "    res1 = cv.bitwise_and(background, background, mask=mask1)#segmentation of colour\n",
    "    res2 = cv.bitwise_and(img, img, mask=mask2)#substituting the cloak part\n",
    "    final_output = cv.addWeighted(res1, 1, res2, 1, 0) #blending the two images\n",
    "    \n",
    "    cv.imshow(\"Your very own invisibility cloak!!\", final_output)\n",
    "    if cv.waitKey(10) == 27: #27 is esc key\n",
    "        break\n",
    "\n",
    "cap.release()\n",
    "cv.destroyAllWindows()"
   ]
  }
 ],
 "metadata": {
  "kernelspec": {
   "display_name": "Python 3",
   "language": "python",
   "name": "python3"
  },
  "language_info": {
   "codemirror_mode": {
    "name": "ipython",
    "version": 3
   },
   "file_extension": ".py",
   "mimetype": "text/x-python",
   "name": "python",
   "nbconvert_exporter": "python",
   "pygments_lexer": "ipython3",
   "version": "3.8.3"
  }
 },
 "nbformat": 4,
 "nbformat_minor": 4
}
